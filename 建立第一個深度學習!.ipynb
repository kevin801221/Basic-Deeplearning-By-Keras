{
 "cells": [
  {
   "cell_type": "code",
   "execution_count": 1,
   "metadata": {},
   "outputs": [],
   "source": [
    "#from tensorflow.keras.models import Sequential  #← 匯入 Keras 的序列式模型類別\n",
    "#from tensorflow.keras.layers import Dense       #← 匯入 Keras 的密集層類別"
   ]
  },
  {
   "cell_type": "code",
   "execution_count": null,
   "metadata": {},
   "outputs": [],
   "source": [
    "#model = Sequential()   #← 建立序列模型物件\n",
    "#model.add(Dense(4, activation='relu', input_dim= 3))  #← 加入第 1 層\n",
    "#model.add(Dense(1, activation='sigmoid'))    #← 加入第 2 層\n",
    "#model.compile(optimizer='rmsprop',           #← 以指定的參數編譯模型\n",
    "              #loss='binary_crossentropy',\n",
    "              #metrics=['accuracy'])"
   ]
  },
  {
   "cell_type": "code",
   "execution_count": 4,
   "metadata": {},
   "outputs": [],
   "source": [
    "# 載入 MNIST 資料集\n",
    "from tensorflow.keras.datasets import mnist\n",
    "\n",
    "(train_images, train_labels), (test_images, test_labels) = mnist.load_data()\n",
    "#train_images.shape,train_labels.shape,test_images.shape,test_labels.shape\n",
    "# ((60000, 28, 28), (60000,), (10000, 28, 28), (10000,))"
   ]
  },
  {
   "cell_type": "code",
   "execution_count": null,
   "metadata": {},
   "outputs": [],
   "source": []
  }
 ],
 "metadata": {
  "kernelspec": {
   "display_name": "Python 3",
   "language": "python",
   "name": "python3"
  },
  "language_info": {
   "codemirror_mode": {
    "name": "ipython",
    "version": 3
   },
   "file_extension": ".py",
   "mimetype": "text/x-python",
   "name": "python",
   "nbconvert_exporter": "python",
   "pygments_lexer": "ipython3",
   "version": "3.7.4"
  }
 },
 "nbformat": 4,
 "nbformat_minor": 2
}

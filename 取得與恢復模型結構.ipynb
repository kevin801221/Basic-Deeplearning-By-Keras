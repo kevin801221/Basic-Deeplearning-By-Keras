{
 "cells": [
  {
   "cell_type": "code",
   "execution_count": 1,
   "metadata": {},
   "outputs": [],
   "source": [
    "# 以字典取得與還原模型結構的方法\n",
    "\n",
    "from tensorflow.keras.models import Sequential\n",
    "import util2 as u\n",
    "\n",
    "model = u.mnist_model()  # 取得新建立並編譯好的模型\n",
    "\n",
    "config = model.get_config()            # 以字典傳回模型結構\n",
    "model = Sequential.from_config(config) # 載入模型結構\n",
    "\n",
    "# 上一行若為 Function API 模型, 須改用 Model 來載入結構：\n",
    "# from tensorflow.keras.models import Model\n",
    "# model = Model.from_config(config)  # 載入 Functional API 模型結構"
   ]
  },
  {
   "cell_type": "code",
   "execution_count": 2,
   "metadata": {},
   "outputs": [],
   "source": [
    "# 以 JSON 字串取得與還原模型結構的方法\n",
    "from tensorflow.keras.models import model_from_json\n",
    "json_string = model.to_json()         # 以 JSON 字串傳回模型結構\n",
    "model = model_from_json(json_string)  # 載入模型結構"
   ]
  },
  {
   "cell_type": "code",
   "execution_count": 3,
   "metadata": {},
   "outputs": [
    {
     "name": "stderr",
     "output_type": "stream",
     "text": [
      "C:\\Users\\supervisor\\20191107\\lib\\site-packages\\tensorflow_core\\python\\keras\\saving\\model_config.py:76: YAMLLoadWarning: calling yaml.load() without Loader=... is deprecated, as the default Loader is unsafe. Please read https://msg.pyyaml.org/load for full details.\n",
      "  config = yaml.load(yaml_string)\n"
     ]
    }
   ],
   "source": [
    "# 以 YAML 字串取得與還原模型結構的方法\n",
    "from tensorflow.keras.models import model_from_yaml\n",
    "yaml_string = model.to_yaml()         # 以 YAML 字串傳回模型結構\n",
    "model = model_from_yaml(yaml_string)  # 載入模型結構"
   ]
  },
  {
   "cell_type": "code",
   "execution_count": null,
   "metadata": {},
   "outputs": [],
   "source": [
    "##################################################"
   ]
  },
  {
   "cell_type": "code",
   "execution_count": 4,
   "metadata": {},
   "outputs": [],
   "source": [
    "# 用 JSON 格式儲存模型結構\n",
    "from tensorflow.keras.models import model_from_json\n",
    "\n",
    "json_string = model.to_json()\n",
    "with open(\"model.config\", \"w\") as text_file:\n",
    "    text_file.write(json_string)\n",
    "\n",
    "# 讀取 JSON 格式的模型結構並還原\n",
    "from tensorflow.keras.models import model_from_json\n",
    "\n",
    "with open(\"model.config\", \"r\") as text_file:\n",
    "    json_string = text_file.read()\n",
    "    model = model_from_json(json_string)\n"
   ]
  },
  {
   "cell_type": "code",
   "execution_count": null,
   "metadata": {},
   "outputs": [],
   "source": [
    "##################################################"
   ]
  },
  {
   "cell_type": "code",
   "execution_count": 7,
   "metadata": {},
   "outputs": [
    {
     "name": "stdout",
     "output_type": "stream",
     "text": [
      "[array([[-0.00899194, -0.01148119, -0.06397936, ..., -0.02967858,\n",
      "         0.05502136, -0.0440641 ],\n",
      "       [ 0.04423158,  0.02956628,  0.06667532, ..., -0.05643651,\n",
      "         0.03825834,  0.00093032],\n",
      "       [ 0.06147799, -0.05586421, -0.06174198, ...,  0.06062669,\n",
      "        -0.00194398,  0.03271898],\n",
      "       ...,\n",
      "       [ 0.01185252, -0.05277289,  0.00403018, ...,  0.0413342 ,\n",
      "        -0.0030388 ,  0.02077897],\n",
      "       [-0.02354933,  0.03369088,  0.03435104, ...,  0.06184912,\n",
      "        -0.03091335,  0.04200659],\n",
      "       [ 0.00956585,  0.01715781,  0.0577312 , ...,  0.00023471,\n",
      "         0.03143975, -0.02267003]], dtype=float32), array([0., 0., 0., 0., 0., 0., 0., 0., 0., 0., 0., 0., 0., 0., 0., 0., 0.,\n",
      "       0., 0., 0., 0., 0., 0., 0., 0., 0., 0., 0., 0., 0., 0., 0., 0., 0.,\n",
      "       0., 0., 0., 0., 0., 0., 0., 0., 0., 0., 0., 0., 0., 0., 0., 0., 0.,\n",
      "       0., 0., 0., 0., 0., 0., 0., 0., 0., 0., 0., 0., 0., 0., 0., 0., 0.,\n",
      "       0., 0., 0., 0., 0., 0., 0., 0., 0., 0., 0., 0., 0., 0., 0., 0., 0.,\n",
      "       0., 0., 0., 0., 0., 0., 0., 0., 0., 0., 0., 0., 0., 0., 0., 0., 0.,\n",
      "       0., 0., 0., 0., 0., 0., 0., 0., 0., 0., 0., 0., 0., 0., 0., 0., 0.,\n",
      "       0., 0., 0., 0., 0., 0., 0., 0., 0., 0., 0., 0., 0., 0., 0., 0., 0.,\n",
      "       0., 0., 0., 0., 0., 0., 0., 0., 0., 0., 0., 0., 0., 0., 0., 0., 0.,\n",
      "       0., 0., 0., 0., 0., 0., 0., 0., 0., 0., 0., 0., 0., 0., 0., 0., 0.,\n",
      "       0., 0., 0., 0., 0., 0., 0., 0., 0., 0., 0., 0., 0., 0., 0., 0., 0.,\n",
      "       0., 0., 0., 0., 0., 0., 0., 0., 0., 0., 0., 0., 0., 0., 0., 0., 0.,\n",
      "       0., 0., 0., 0., 0., 0., 0., 0., 0., 0., 0., 0., 0., 0., 0., 0., 0.,\n",
      "       0., 0., 0., 0., 0., 0., 0., 0., 0., 0., 0., 0., 0., 0., 0., 0., 0.,\n",
      "       0., 0., 0., 0., 0., 0., 0., 0., 0., 0., 0., 0., 0., 0., 0., 0., 0.,\n",
      "       0., 0., 0., 0., 0., 0., 0., 0., 0., 0., 0., 0., 0., 0., 0., 0., 0.,\n",
      "       0., 0., 0., 0., 0., 0., 0., 0., 0., 0., 0., 0., 0., 0., 0., 0., 0.,\n",
      "       0., 0., 0., 0., 0., 0., 0., 0., 0., 0., 0., 0., 0., 0., 0., 0., 0.,\n",
      "       0., 0., 0., 0., 0., 0., 0., 0., 0., 0., 0., 0., 0., 0., 0., 0., 0.,\n",
      "       0., 0., 0., 0., 0., 0., 0., 0., 0., 0., 0., 0., 0., 0., 0., 0., 0.,\n",
      "       0., 0., 0., 0., 0., 0., 0., 0., 0., 0., 0., 0., 0., 0., 0., 0., 0.,\n",
      "       0., 0., 0., 0., 0., 0., 0., 0., 0., 0., 0., 0., 0., 0., 0., 0., 0.,\n",
      "       0., 0., 0., 0., 0., 0., 0., 0., 0., 0., 0., 0., 0., 0., 0., 0., 0.,\n",
      "       0., 0., 0., 0., 0., 0., 0., 0., 0., 0., 0., 0., 0., 0., 0., 0., 0.,\n",
      "       0., 0., 0., 0., 0., 0., 0., 0., 0., 0., 0., 0., 0., 0., 0., 0., 0.,\n",
      "       0., 0., 0., 0., 0., 0., 0., 0., 0., 0., 0., 0., 0., 0., 0., 0., 0.,\n",
      "       0., 0., 0., 0., 0., 0., 0., 0., 0., 0., 0., 0., 0., 0., 0., 0., 0.,\n",
      "       0., 0., 0., 0., 0., 0., 0., 0., 0., 0., 0., 0., 0., 0., 0., 0., 0.,\n",
      "       0., 0., 0., 0., 0., 0., 0., 0., 0., 0., 0., 0., 0., 0., 0., 0., 0.,\n",
      "       0., 0., 0., 0., 0., 0., 0., 0., 0., 0., 0., 0., 0., 0., 0., 0., 0.,\n",
      "       0., 0.], dtype=float32), array([[ 0.10400011, -0.06197527,  0.0407236 , ..., -0.06607211,\n",
      "        -0.02371469, -0.0301673 ],\n",
      "       [-0.06889606, -0.01840431,  0.01727034, ...,  0.01415835,\n",
      "         0.000378  ,  0.06061838],\n",
      "       [ 0.10493144, -0.0132872 ,  0.0473133 , ...,  0.0250927 ,\n",
      "        -0.0871117 , -0.07759552],\n",
      "       ...,\n",
      "       [-0.01562093,  0.1013658 ,  0.09370875, ..., -0.09931176,\n",
      "        -0.04058391,  0.08392244],\n",
      "       [-0.07357132, -0.0239986 ,  0.05570903, ..., -0.07460953,\n",
      "        -0.05383788,  0.00123997],\n",
      "       [ 0.08885265, -0.02080616, -0.07122501, ..., -0.04522024,\n",
      "         0.03508724, -0.06759946]], dtype=float32), array([0., 0., 0., 0., 0., 0., 0., 0., 0., 0.], dtype=float32)]\n"
     ]
    }
   ],
   "source": [
    "# 取得、還原權重參數\n",
    "weights = model.get_weights()   # 取得權重參數\n",
    "print(weights)\n",
    "model.set_weights(weights)      # 還原權重參數\n"
   ]
  },
  {
   "cell_type": "code",
   "execution_count": null,
   "metadata": {},
   "outputs": [],
   "source": [
    "##################################################"
   ]
  },
  {
   "cell_type": "code",
   "execution_count": 8,
   "metadata": {},
   "outputs": [
    {
     "data": {
      "text/plain": [
       "<tensorflow.python.training.tracking.util.CheckpointLoadStatus at 0x26941c5f648>"
      ]
     },
     "execution_count": 8,
     "metadata": {},
     "output_type": "execute_result"
    }
   ],
   "source": [
    "# 儲存、載入權重參數\n",
    "model.save_weights(\"model.weight\")   # 儲存權重參數到 HDF5 格式的檔案中\n",
    "model.load_weights(\"model.weight\")   # 載入權重參數\n"
   ]
  },
  {
   "cell_type": "code",
   "execution_count": null,
   "metadata": {},
   "outputs": [],
   "source": []
  }
 ],
 "metadata": {
  "kernelspec": {
   "display_name": "Python 3",
   "language": "python",
   "name": "python3"
  },
  "language_info": {
   "codemirror_mode": {
    "name": "ipython",
    "version": 3
   },
   "file_extension": ".py",
   "mimetype": "text/x-python",
   "name": "python",
   "nbconvert_exporter": "python",
   "pygments_lexer": "ipython3",
   "version": "3.7.4"
  }
 },
 "nbformat": 4,
 "nbformat_minor": 2
}

{
 "cells": [
  {
   "cell_type": "code",
   "execution_count": 1,
   "metadata": {},
   "outputs": [],
   "source": [
    "import util2 as u  # 匯入自訂的工具模組\n",
    "\n",
    "#####↓自訂生成器↓#####\n",
    "def trn_gen():\n",
    "    while True:\n",
    "        for i in range(0, 50000, 500): #←前 50000 筆訓練資料拿來訓練, 每批次 500 筆\n",
    "            yield (x_train[i:i+500], y_train[i:i+500]) #←每次傳回 (500筆樣本, 500筆標籤)\n",
    "\n",
    "def val_gen():\n",
    "    while True:\n",
    "        for i in range(50000, 60000, 1000): #←後 10000 筆訓練資料拿來驗證, 每批次 1000 筆\n",
    "            yield (x_train[i:i+1000], y_train[i:i+1000]) #←每次傳回 (1000筆樣本, 1000筆標籤)\n",
    "\n",
    "def eva_gen():\n",
    "    while True:\n",
    "        for i in range(0, 10000, 2000):  #← 10000 筆測試資料拿來評量成效, 每批次 2000 筆\n",
    "            yield (x_test[i:i+2000], y_test[i:i+2000])#←每次傳回 (2000筆樣本, 2000筆標籤)\n",
    "\n",
    "def prd_gen():\n",
    "    while True:\n",
    "        for i in range(0, 10000, 2):  #← 10000 筆測試資料拿來評量成效, 每批次 2 筆\n",
    "            yield (x_test[i:i+2], y_test[i:i+2])#←每次傳回 (2筆樣本, 2筆標籤)\n"
   ]
  },
  {
   "cell_type": "code",
   "execution_count": 2,
   "metadata": {},
   "outputs": [
    {
     "name": "stdout",
     "output_type": "stream",
     "text": [
      "Train for 100 steps, validate for 10 steps\n",
      "Epoch 1/5\n",
      "100/100 [==============================] - 1s 13ms/step - loss: 0.4399 - acc: 0.8756 - val_loss: 0.2231 - val_acc: 0.9404\n",
      "Epoch 2/5\n",
      "100/100 [==============================] - 1s 8ms/step - loss: 0.2047 - acc: 0.9408 - val_loss: 0.1643 - val_acc: 0.9552\n",
      "Epoch 3/5\n",
      "100/100 [==============================] - 1s 7ms/step - loss: 0.1441 - acc: 0.9587 - val_loss: 0.1323 - val_acc: 0.9639\n",
      "Epoch 4/5\n",
      "100/100 [==============================] - 1s 8ms/step - loss: 0.1093 - acc: 0.9688 - val_loss: 0.1070 - val_acc: 0.9693\n",
      "Epoch 5/5\n",
      "100/100 [==============================] - 1s 8ms/step - loss: 0.0859 - acc: 0.9756 - val_loss: 0.0937 - val_acc: 0.9726\n",
      "評估成效：\n",
      "5/5 [==============================] - 0s 10ms/step - loss: 0.0935 - acc: 0.9727\n",
      "預測前 4 筆測試資料的答案：\n",
      "[[0. 0. 0. 0. 0. 0. 0. 1. 0. 0.]\n",
      " [0. 0. 1. 0. 0. 0. 0. 0. 0. 0.]\n",
      " [0. 1. 0. 0. 0. 0. 0. 0. 0. 0.]\n",
      " [1. 0. 0. 0. 0. 0. 0. 0. 0. 0.]]\n"
     ]
    }
   ],
   "source": [
    "#####↓主程式↓#####\n",
    "(x_train, x_test), (y_train, y_test) = u.mnist_data() #←載入預處理好的 MNIST 資料集\n",
    "model = u.mnist_model()     #←取得新建立並編譯好的模型\n",
    "                                     #↓每週期訓練 5000/500=100 批次\n",
    "model.fit(trn_gen(), steps_per_epoch=100,            #↓驗證 10000/1000=10 批次\n",
    "          validation_data=val_gen(), validation_steps=10,\n",
    "          epochs=5)\n",
    "\n",
    "print('評估成效：')            #↓評估 10000/2000=5 批次\n",
    "model.evaluate(eva_gen(), steps=5)\n",
    "\n",
    "print('預測前 4 筆測試資料的答案：')   #↓預測 2 批次的測試資料 (每批次只有 2 筆)\n",
    "ret = model.predict(prd_gen(), steps=2)\n",
    "print(ret.round(1))"
   ]
  },
  {
   "cell_type": "code",
   "execution_count": null,
   "metadata": {},
   "outputs": [],
   "source": []
  }
 ],
 "metadata": {
  "kernelspec": {
   "display_name": "Python 3",
   "language": "python",
   "name": "python3"
  },
  "language_info": {
   "codemirror_mode": {
    "name": "ipython",
    "version": 3
   },
   "file_extension": ".py",
   "mimetype": "text/x-python",
   "name": "python",
   "nbconvert_exporter": "python",
   "pygments_lexer": "ipython3",
   "version": "3.7.4"
  }
 },
 "nbformat": 4,
 "nbformat_minor": 2
}

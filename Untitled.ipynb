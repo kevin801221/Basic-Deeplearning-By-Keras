{
 "cells": [
  {
   "cell_type": "code",
   "execution_count": 1,
   "metadata": {},
   "outputs": [
    {
     "name": "stdout",
     "output_type": "stream",
     "text": [
      "\n",
      "載入模型及參數...\n",
      "載入圖檔及標籤...\n",
      "模型評估 10000 張【MNIST】圖片的準確率：98.0%\n"
     ]
    },
    {
     "data": {
      "text/plain": [
       "<Figure size 1600x5200 with 10 Axes>"
      ]
     },
     "metadata": {},
     "output_type": "display_data"
    },
    {
     "name": "stdout",
     "output_type": "stream",
     "text": [
      "模型評估 200 張【鉛筆】圖片的準確率：83.5%\n"
     ]
    },
    {
     "data": {
      "text/plain": [
       "<Figure size 1600x5200 with 10 Axes>"
      ]
     },
     "metadata": {},
     "output_type": "display_data"
    },
    {
     "name": "stdout",
     "output_type": "stream",
     "text": [
      "模型評估 200 張【藍筆】圖片的準確率：36.0%\n"
     ]
    },
    {
     "data": {
      "text/plain": [
       "<Figure size 1600x5200 with 10 Axes>"
      ]
     },
     "metadata": {},
     "output_type": "display_data"
    },
    {
     "name": "stdout",
     "output_type": "stream",
     "text": [
      "模型評估 200 張【滑鼠】圖片的準確率：50.0%\n"
     ]
    },
    {
     "data": {
      "text/plain": [
       "<Figure size 1600x5200 with 10 Axes>"
      ]
     },
     "metadata": {},
     "output_type": "display_data"
    }
   ],
   "source": [
    "from tensorflow.keras.models import load_model\n",
    "import util1 as u\n",
    "\n",
    "model_file = '模型_DNN.h5' # 要載入的已訓練模型檔\n",
    "imgs_name = ('MNIST','鉛筆',     '藍筆',        '滑鼠'     ) # 要載入的圖檔種類, 第0個固定為MNIST\n",
    "imgs_dir =  ('MNIST','pic_2BPen','pic_BluePen','pic_Mouse') # 要載入的圖檔資料夾, 第0個已固定勿改\n",
    "\n",
    "sets = (0,1,2,3)  # 要測試哪些資料集 (0:MNIST, 1:鉛筆, 2:藍筆, 3:滑鼠)\n",
    "show = 10         # 要顯示多少張圖, 0 為不顯示\n",
    "labs = (1,)       # 要進行哪些實驗, 可指定 1 或多個, 例如 (1,) 或 (3,4,5)\n",
    "\n",
    "###############################################################\n",
    "\n",
    "# 評估指定的圖片資料集\n",
    "# func:評估前要先呼叫的圖片處理函式\n",
    "# kwargs:要傳遞給 func 的指名參數 (可有 0 到多個)\n",
    "def eval_all(func=None, **kwargs):\n",
    "    for i in sets:   # 走訪每一個指定要測試的資料集\n",
    "        imgs = []\n",
    "        for img in imgsets[i]: # 走訪目前資料集中的影像\n",
    "            img = img.copy()   # 複製一份, 以免改變到原始資料\n",
    "            if func: img = func(img, **kwargs) # 呼叫指定的影像處理函式\n",
    "            imgs.append(img)   # 加到新的資料集中\n",
    "\n",
    "        x, y = u.pre_proc(imgs, labsets[i], model)   # 預處理\n",
    "        loss, acc = model.evaluate(x, y, verbose=0)  # 評估成效\n",
    "        s = ''\n",
    "        if func:\n",
    "            s = '做【' + func.__name__   # 取得函式名稱\n",
    "            s += str(kwargs).replace(':','=').replace(\"'\",'').replace(\" \",'')+'】'\n",
    "        print(f'模型評估 {len(x)} 張【{imgs_name[i]}】圖片{s}的準確率：'\n",
    "              f'{str(round(acc*100, 1))}%')\n",
    "        if show > 0:  # 顯示前 show 張圖片\n",
    "            predict = model.predict_classes(x)\n",
    "            u.showImgs(imgs, labsets[i], 0, show, predict)\n",
    "\n",
    "\n",
    "print('\\n載入模型及參數...')\n",
    "model = load_model(model_file)  #由檔案載入模型\n",
    "print('載入圖檔及標籤...')\n",
    "imgsets, labsets = u.load_dataset(imgs_dir, pre_adjust=True)  # 載入 4 組資料集的樣本與標籤\n",
    "\n",
    "if 1 in labs:   # 1:測試原始圖片, 但不做前置影像調整(去背、稍微模糊、及修正亮度)\n",
    "    imgsets, labsets = u.load_dataset(imgs_dir, pre_adjust=False) #重新載入圖檔但不做前置影像調整\n",
    "    eval_all()\n",
    "\n",
    "if 2 in labs:   # 2:測試原始圖片, 並進行預設會做的前置影像調整(去背、稍微模糊、及修正亮度)\n",
    "    eval_all()\n",
    "\n",
    "if 3 in labs:   # 測 MNIST 的數字位置\n",
    "    for x in range (2, -3, -1):\n",
    "        for y in range(2, -3, -1):\n",
    "                eval_all(u.img_shift, left=x, up=y)\n",
    "\n",
    "if 4 in labs:   # 測 MNIST 的數字大小\n",
    "    for i in range(1, 7):\n",
    "        eval_all(u.img_bigger, add=i)\n",
    "        eval_all(u.img_bigger, add=-i)\n",
    "\n",
    "if 5 in labs:   # 測 MNIST 的邊緣漸層\n",
    "    eval_all(u.img_sharper, mode=1, times=0)  # times=0 表示不做銳利化 (做為對照用)\n",
    "    for m in (1, 2):  # 1 為粗銳利化, 2 為細銳利化\n",
    "        for t in (1,2,3):  # 銳利化的次數\n",
    "            eval_all(u.img_sharper, mode=m, times=t)\n",
    "\n",
    "    # 測數字線條邊緣漸層2 (依閥值直接改變灰階為黑或白)\n",
    "    for th in (100, 150, 200, 220, 240):\n",
    "        eval_all(u.img_threshold, th=th, low=0, high=255)\n",
    "\n",
    "if 6 in labs:   # 測 MNIST 的線條粗細\n",
    "    for i in range(-2, 3):  # 由 -2 測到 2\n",
    "        eval_all(u.img_thicker, add=i)\n",
    "\n",
    "if 7 in labs:   # 測 MNIST 的線條深淺\n",
    "    eval_all(u.img_darker, add=0) # 不調 (對照組)\n",
    "    for i in range(20, 121, 20):  # 測 20, 40,... 120\n",
    "        eval_all(u.img_darker, add=i)\n",
    "    for i in range(-20, -121, -20):  # 測 -20, -40,... -120\n",
    "        eval_all(u.img_darker, add=i)\n",
    "\n",
    "if 8 in labs:   # 測最佳調整方法\n",
    "    for size in range(17, 24):\n",
    "        eval_all(u.img_best, size=size, vdif=1, hdif=1)\n",
    "        print()\n",
    "\n",
    "    for size in range(17, 23):\n",
    "        eval_all(u.img_best, size=size, vdif=2, hdif=2)\n",
    "        print()\n",
    "\n",
    "if 9 in labs:  # 使用最佳調整法重新訓練模型來測試\n",
    "    for i in range(18, 21):  # 測試 3 種數字大小\n",
    "        fn = '模型_DNN_S' + str(i) + '.h5'\n",
    "        print('\\n重新載入 \"' + fn + '\"')\n",
    "        model = load_model(fn)     #由檔案重新載入模型\n",
    "        eval_all(u.img_best, size=i, vdif=1, hdif=1)\n",
    "\n",
    "if 10 in labs:  # 使用 CNN 模型做測試\n",
    "    fn = '模型_CNN.h5'\n",
    "    print('\\n重新載入 \"' + fn + '\"')\n",
    "    model = load_model(fn)     #由檔案重新載入模型\n",
    "    eval_all()\n",
    "\n",
    "    print('\\n將數字調為 19 像素再評估')\n",
    "    eval_all(u.img_best, size=19, vdif=1, hdif=1)\n",
    "\n",
    "    fn = '模型_CNN_S19.h5'\n",
    "    print('\\n重新載入 \"' + fn + '\"')\n",
    "    model = load_model(fn)     #由檔案重新載入模型\n",
    "    print('\\n將數字調為 19 像素再評估')\n",
    "    eval_all(u.img_best, size=19, vdif=1, hdif=1)\n"
   ]
  },
  {
   "cell_type": "code",
   "execution_count": null,
   "metadata": {},
   "outputs": [],
   "source": []
  }
 ],
 "metadata": {
  "kernelspec": {
   "display_name": "Python 3",
   "language": "python",
   "name": "python3"
  },
  "language_info": {
   "codemirror_mode": {
    "name": "ipython",
    "version": 3
   },
   "file_extension": ".py",
   "mimetype": "text/x-python",
   "name": "python",
   "nbconvert_exporter": "python",
   "pygments_lexer": "ipython3",
   "version": "3.7.4"
  }
 },
 "nbformat": 4,
 "nbformat_minor": 2
}

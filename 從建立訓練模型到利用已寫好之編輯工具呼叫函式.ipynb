{
 "cells": [
  {
   "cell_type": "code",
   "execution_count": 1,
   "metadata": {},
   "outputs": [],
   "source": [
    "from tensorflow.keras.models import Sequential  #← 匯入 Keras 的序列式模型類別\n",
    "from tensorflow.keras.layers import Dense       #← 匯入 Keras 的密集層類別\n",
    "\n",
    "model_a = Sequential()                 #← 用 add() 建立序列模型物件\n",
    "model_a.add(Dense(512, activation='relu', input_dim= 784)) #← 加入第一層\n",
    "model_a.add(Dense(10, activation='softmax'))               #← 加入第二層\n",
    "\n",
    "model_b = Sequential([                 #← 建立序列模型物件並加入串列中的層\n",
    "         Dense(512, activation='relu', input_dim= 784),\n",
    "         Dense(10, activation='softmax')])\n"
   ]
  },
  {
   "cell_type": "code",
   "execution_count": 2,
   "metadata": {},
   "outputs": [
    {
     "name": "stdout",
     "output_type": "stream",
     "text": [
      "Model: \"sequential_2\"\n",
      "_________________________________________________________________\n",
      "Layer (type)                 Output Shape              Param #   \n",
      "=================================================================\n",
      "dense_4 (Dense)              (None, 512)               401920    \n",
      "_________________________________________________________________\n",
      "activation (Activation)      (None, 512)               0         \n",
      "_________________________________________________________________\n",
      "dense_5 (Dense)              (None, 10)                5130      \n",
      "_________________________________________________________________\n",
      "activation_1 (Activation)    (None, 10)                0         \n",
      "=================================================================\n",
      "Total params: 407,050\n",
      "Trainable params: 407,050\n",
      "Non-trainable params: 0\n",
      "_________________________________________________________________\n"
     ]
    }
   ],
   "source": [
    "from tensorflow.keras.models import Sequential\n",
    "from tensorflow.keras.layers import Activation  #← 匯入啟動函數層類別\n",
    "\n",
    "model = Sequential([\n",
    "        Dense(512, input_dim= 784), #← 第一密集層不指定 (省略) 啟動函數\n",
    "        Activation('relu'),         #← 接著加入 relu 啟動函數層\n",
    "        Dense(10),                  #← 第二密集層同樣不指定啟動函數\n",
    "        Activation('softmax')])     #← 接著加入 softmax 啟動函數層\n",
    "model.summary()"
   ]
  },
  {
   "cell_type": "code",
   "execution_count": 3,
   "metadata": {},
   "outputs": [
    {
     "name": "stdout",
     "output_type": "stream",
     "text": [
      "Train on 60000 samples\n",
      "Epoch 1/5\n",
      "60000/60000 [==============================] - 3s 53us/sample - loss: 0.2579 - acc: 0.9249\n",
      "Epoch 2/5\n",
      "60000/60000 [==============================] - 3s 47us/sample - loss: 0.1028 - acc: 0.9700\n",
      "Epoch 3/5\n",
      "60000/60000 [==============================] - 2s 39us/sample - loss: 0.0674 - acc: 0.9803\n",
      "Epoch 4/5\n",
      "60000/60000 [==============================] - 2s 38us/sample - loss: 0.0489 - acc: 0.9851\n",
      "Epoch 5/5\n",
      "60000/60000 [==============================] - 3s 42us/sample - loss: 0.0373 - acc: 0.9887\n"
     ]
    },
    {
     "data": {
      "text/plain": [
       "<tensorflow.python.keras.callbacks.History at 0x178e5660e48>"
      ]
     },
     "execution_count": 3,
     "metadata": {},
     "output_type": "execute_result"
    }
   ],
   "source": [
    "import util2 as u  # 匯入自訂工具模組, 並更名為 u\n",
    "\n",
    "(x_train, x_test), (y_train, y_test) = u.mnist_data()  # 用 4 個變數接收傳回值\n",
    "model = u.mnist_model()  # 取得新建立並編譯好的模型\n",
    "\n",
    "model.fit(x_train, y_train, epochs=5, batch_size=128) # 用取得的資料與模型進行訓練\n"
   ]
  },
  {
   "cell_type": "code",
   "execution_count": 4,
   "metadata": {},
   "outputs": [
    {
     "data": {
      "image/png": "[encoded data removed]",
      "text/plain": [
       "<Figure size 432x288 with 1 Axes>"
      ]
     },
     "metadata": {
      "needs_background": "light"
     },
     "output_type": "display_data"
    }
   ],
   "source": [
    "import util2 as u  # 匯入自訂工具模組\n",
    "\n",
    "history_dict = {'loss': [0.8,0.7,0.4,0.2,0.1],   #} 2 個 key 的數據字典\n",
    "                'acc':  [0.2,0.3,0.5,0.7,0.9]}   #}\n",
    "u.plot(history_dict, ('loss','acc'),\n",
    "       'Loss & Accuracy',\n",
    "       ('Epochs', 'Loss & Acc'))\n"
   ]
  },
  {
   "cell_type": "code",
   "execution_count": 5,
   "metadata": {},
   "outputs": [
    {
     "name": "stdout",
     "output_type": "stream",
     "text": [
      "[array([[ 0.03904404, -0.05755395, -0.02927354, ...,  0.04831535,\n",
      "        -0.06353275, -0.06470865],\n",
      "       [ 0.05076277, -0.05716647, -0.04466937, ...,  0.0117554 ,\n",
      "         0.03674497, -0.01866254],\n",
      "       [-0.05054385,  0.03796523, -0.04812118, ...,  0.00455763,\n",
      "         0.04201572, -0.02797479],\n",
      "       ...,\n",
      "       [-0.05766964, -0.06048063,  0.04241239, ..., -0.04543602,\n",
      "         0.05479598,  0.04669865],\n",
      "       [ 0.0267163 ,  0.03842123,  0.05043191, ..., -0.02239368,\n",
      "        -0.03766097, -0.02052594],\n",
      "       [ 0.05659943,  0.03741606, -0.04162854, ..., -0.00587808,\n",
      "         0.05427004, -0.05207379]], dtype=float32), array([0., 0., 0., 0., 0., 0., 0., 0., 0., 0., 0., 0., 0., 0., 0., 0., 0.,\n",
      "       0., 0., 0., 0., 0., 0., 0., 0., 0., 0., 0., 0., 0., 0., 0., 0., 0.,\n",
      "       0., 0., 0., 0., 0., 0., 0., 0., 0., 0., 0., 0., 0., 0., 0., 0., 0.,\n",
      "       0., 0., 0., 0., 0., 0., 0., 0., 0., 0., 0., 0., 0., 0., 0., 0., 0.,\n",
      "       0., 0., 0., 0., 0., 0., 0., 0., 0., 0., 0., 0., 0., 0., 0., 0., 0.,\n",
      "       0., 0., 0., 0., 0., 0., 0., 0., 0., 0., 0., 0., 0., 0., 0., 0., 0.,\n",
      "       0., 0., 0., 0., 0., 0., 0., 0., 0., 0., 0., 0., 0., 0., 0., 0., 0.,\n",
      "       0., 0., 0., 0., 0., 0., 0., 0., 0., 0., 0., 0., 0., 0., 0., 0., 0.,\n",
      "       0., 0., 0., 0., 0., 0., 0., 0., 0., 0., 0., 0., 0., 0., 0., 0., 0.,\n",
      "       0., 0., 0., 0., 0., 0., 0., 0., 0., 0., 0., 0., 0., 0., 0., 0., 0.,\n",
      "       0., 0., 0., 0., 0., 0., 0., 0., 0., 0., 0., 0., 0., 0., 0., 0., 0.,\n",
      "       0., 0., 0., 0., 0., 0., 0., 0., 0., 0., 0., 0., 0., 0., 0., 0., 0.,\n",
      "       0., 0., 0., 0., 0., 0., 0., 0., 0., 0., 0., 0., 0., 0., 0., 0., 0.,\n",
      "       0., 0., 0., 0., 0., 0., 0., 0., 0., 0., 0., 0., 0., 0., 0., 0., 0.,\n",
      "       0., 0., 0., 0., 0., 0., 0., 0., 0., 0., 0., 0., 0., 0., 0., 0., 0.,\n",
      "       0., 0., 0., 0., 0., 0., 0., 0., 0., 0., 0., 0., 0., 0., 0., 0., 0.,\n",
      "       0., 0., 0., 0., 0., 0., 0., 0., 0., 0., 0., 0., 0., 0., 0., 0., 0.,\n",
      "       0., 0., 0., 0., 0., 0., 0., 0., 0., 0., 0., 0., 0., 0., 0., 0., 0.,\n",
      "       0., 0., 0., 0., 0., 0., 0., 0., 0., 0., 0., 0., 0., 0., 0., 0., 0.,\n",
      "       0., 0., 0., 0., 0., 0., 0., 0., 0., 0., 0., 0., 0., 0., 0., 0., 0.,\n",
      "       0., 0., 0., 0., 0., 0., 0., 0., 0., 0., 0., 0., 0., 0., 0., 0., 0.,\n",
      "       0., 0., 0., 0., 0., 0., 0., 0., 0., 0., 0., 0., 0., 0., 0., 0., 0.,\n",
      "       0., 0., 0., 0., 0., 0., 0., 0., 0., 0., 0., 0., 0., 0., 0., 0., 0.,\n",
      "       0., 0., 0., 0., 0., 0., 0., 0., 0., 0., 0., 0., 0., 0., 0., 0., 0.,\n",
      "       0., 0., 0., 0., 0., 0., 0., 0., 0., 0., 0., 0., 0., 0., 0., 0., 0.,\n",
      "       0., 0., 0., 0., 0., 0., 0., 0., 0., 0., 0., 0., 0., 0., 0., 0., 0.,\n",
      "       0., 0., 0., 0., 0., 0., 0., 0., 0., 0., 0., 0., 0., 0., 0., 0., 0.,\n",
      "       0., 0., 0., 0., 0., 0., 0., 0., 0., 0., 0., 0., 0., 0., 0., 0., 0.,\n",
      "       0., 0., 0., 0., 0., 0., 0., 0., 0., 0., 0., 0., 0., 0., 0., 0., 0.,\n",
      "       0., 0., 0., 0., 0., 0., 0., 0., 0., 0., 0., 0., 0., 0., 0., 0., 0.,\n",
      "       0., 0.], dtype=float32), array([[-0.00572243, -0.04556606,  0.10233714, ...,  0.08151358,\n",
      "         0.0046565 , -0.08496098],\n",
      "       [-0.01352062, -0.0519178 ,  0.01133461, ..., -0.09260359,\n",
      "         0.01888604,  0.09072495],\n",
      "       [ 0.029526  ,  0.01597624,  0.00277282, ...,  0.04164203,\n",
      "        -0.05726678,  0.05594038],\n",
      "       ...,\n",
      "       [ 0.0484264 ,  0.05471114,  0.04086616, ...,  0.02324224,\n",
      "         0.03172328, -0.09208227],\n",
      "       [ 0.04458686, -0.03520213,  0.09673599, ..., -0.02972586,\n",
      "         0.08738086,  0.01167079],\n",
      "       [ 0.02325625, -0.01455133, -0.10447375, ...,  0.10514665,\n",
      "        -0.05937534,  0.04954881]], dtype=float32), array([0., 0., 0., 0., 0., 0., 0., 0., 0., 0.], dtype=float32)]\n"
     ]
    },
    {
     "name": "stderr",
     "output_type": "stream",
     "text": [
      "C:\\Users\\supervisor\\20191107\\lib\\site-packages\\tensorflow_core\\python\\keras\\saving\\model_config.py:76: YAMLLoadWarning: calling yaml.load() without Loader=... is deprecated, as the default Loader is unsafe. Please read https://msg.pyyaml.org/load for full details.\n",
      "  config = yaml.load(yaml_string)\n"
     ]
    },
    {
     "data": {
      "text/plain": [
       "<tensorflow.python.training.tracking.util.CheckpointLoadStatus at 0x178e76a3a08>"
      ]
     },
     "execution_count": 5,
     "metadata": {},
     "output_type": "execute_result"
    }
   ],
   "source": [
    "# 以字典取得與還原模型結構的方法\n",
    "\n",
    "from tensorflow.keras.models import Sequential\n",
    "import util2 as u\n",
    "\n",
    "model = u.mnist_model()  # 取得新建立並編譯好的模型\n",
    "\n",
    "config = model.get_config()            # 以字典傳回模型結構\n",
    "model = Sequential.from_config(config) # 載入模型結構\n",
    "\n",
    "# 上一行若為 Function API 模型, 須改用 Model 來載入結構：\n",
    "# from tensorflow.keras.models import Model\n",
    "# model = Model.from_config(config)  # 載入 Functional API 模型結構\n",
    "\n",
    "# 以 JSON 字串取得與還原模型結構的方法\n",
    "from tensorflow.keras.models import model_from_json\n",
    "json_string = model.to_json()         # 以 JSON 字串傳回模型結構\n",
    "model = model_from_json(json_string)  # 載入模型結構\n",
    "\n",
    "# 以 YAML 字串取得與還原模型結構的方法\n",
    "from tensorflow.keras.models import model_from_yaml\n",
    "yaml_string = model.to_yaml()         # 以 YAML 字串傳回模型結構\n",
    "model = model_from_yaml(yaml_string)  # 載入模型結構\n",
    "\n",
    "##################################################\n",
    "\n",
    "# 用 JSON 格式儲存模型結構\n",
    "from tensorflow.keras.models import model_from_json\n",
    "\n",
    "json_string = model.to_json()\n",
    "with open(\"model.config\", \"w\") as text_file:\n",
    "    text_file.write(json_string)\n",
    "\n",
    "# 讀取 JSON 格式的模型結構並還原\n",
    "from tensorflow.keras.models import model_from_json\n",
    "\n",
    "with open(\"model.config\", \"r\") as text_file:\n",
    "    json_string = text_file.read()\n",
    "    model = model_from_json(json_string)\n",
    "\n",
    "##################################################\n",
    "\n",
    "# 取得、還原權重參數\n",
    "weights = model.get_weights()   # 取得權重參數\n",
    "print(weights)\n",
    "model.set_weights(weights)      # 還原權重參數\n",
    "\n",
    "##################################################\n",
    "\n",
    "# 儲存、載入權重參數\n",
    "model.save_weights(\"model.weight\")   # 儲存權重參數到 HDF5 格式的檔案中\n",
    "model.load_weights(\"model.weight\")   # 載入權重參數\n",
    "\n"
   ]
  },
  {
   "cell_type": "code",
   "execution_count": null,
   "metadata": {},
   "outputs": [],
   "source": [
    "import pandas as pd\n",
    "import util2 as u     # 匯入自訂的工具模組\n",
    "\n",
    "df = pd.read_csv(\"Admission_Predict_Ver1.1.csv\",sep = \",\")\n",
    "\n",
    "import numpy as np\n",
    "\n",
    "np.random.seed(6)       # 設定亂數的種子, 以便每次執行產生的亂數序列都相同\n",
    "ds = df.values          # 取出 DataFrame 中的資料 (不含標題欄)\n",
    "np.random.shuffle(ds)   # 將所有資料洗牌 (隨機重排)\n",
    "\n",
    "x = ds[:, 1:8]   # 取出所有資料列的第 1 到 7 欄資料做為樣本資料\n",
    "y = ds[:, 8]     # 取出所有資料列的第 8 欄資料做為標籤資料\n",
    "\n",
    "x_train = x[:400]  #} 前 400 筆 (0~399) 做為訓練用\n",
    "y_train = y[:400]  #}\n",
    "x_test  = x[400:]  #} 後 100 筆 (400~499) 做為測試用\n",
    "y_test  = y[400:]  #}\n",
    "\n",
    "###############################\n",
    "\n",
    "mean = x_train.mean(axis=0)  #←沿著第 0 軸 (樣本數軸) 對每個特徵做平均, 因此 mean.shape 為 (13,)\n",
    "std = x_train.std(axis=0)    #←沿著第 0 軸 (樣本數軸) 對每個特徵算標準差, std.shape 同樣為 (13,)\n",
    "\n",
    "x_train -= mean  #← 將訓練樣本減平均值\n",
    "x_train /= std   #← 再除以標準差\n",
    "\n",
    "x_test  -= mean  #← 將測試樣本減平均值\n",
    "x_test  /= std   #← 再除以標準差\n",
    "\n",
    "from tensorflow.keras.models import Sequential\n",
    "from tensorflow.keras.layers import Dense\n",
    "\n",
    "def train(unit1, unit2, epoch, batch):\n",
    "    np.random.seed(8)       # 設定亂數的種子, 以便每次執行產生的亂數序列都相同\n",
    "    model = Sequential()\n",
    "    model.add(Dense(unit1, activation='relu', input_dim=7))\n",
    "    if unit2>0: model.add(Dense(unit2, activation='relu'))\n",
    "    model.add(Dense(1))           #←不加任何啟動函數\n",
    "    model.compile(optimizer='rmsprop', loss='mse', metrics=['mae'])\n",
    "\n",
    "    wt = model.get_weights()    #←儲存模型的初始權重\n",
    "    ksize = len(x_train) // 4   #←計算每折的資料筆數\n",
    "\n",
    "    all_his_mae = []   #←建立變數來儲存每次訓練的 mae 歷史資料\n",
    "    all_his_val = []   #←建立變數來儲存每次訓練的 val_mae 歷史資料\n",
    "    print(f'●訓練與測試 Dense({unit1:2},{unit2:2}) epoch={epoch:3} batch={batch:2}：', end='')\n",
    "    if show_info==2: print()        #←換行\n",
    "    for i in range(4):\n",
    "        print(f'第 {i} 摺訓練與驗證' if show_info==2 else f'>{i}', end='')\n",
    "        fr, to = i*ksize, (i+1)*ksize  #←計算驗證資料的起點 fr 和終點 to (不含)\n",
    "        x_val = x_train[fr: to]        #←取出驗證樣本\n",
    "        x_trn = np.concatenate([x_train[ :fr],  #←準備訓練樣本：取驗證資料以外的部份\n",
    "                                x_train[to: ]], axis=0)\n",
    "        y_val = y_train[fr: to]        #←取出驗證標籤\n",
    "        y_trn = np.concatenate([y_train[ :fr],  #←準備訓練標籤：取驗證資料以外的部份\n",
    "                                y_train[to: ]], axis=0)\n",
    "\n",
    "        model.set_weights(wt)  #←還原初始權重 (效果等於重建模型, 以便重新訓練)\n",
    "        history =  model.fit(x_trn, y_trn,\n",
    "                             validation_data=(x_val, y_val),  #←指定驗證資料\n",
    "                             epochs=epoch,\n",
    "                             batch_size=batch,\n",
    "                             verbose=0)       #←安靜模式 (不顯示訊息)\n",
    "        if show_info==2:\n",
    "            hv = history.history['val_mae']  #←取得驗證的歷史記錄\n",
    "            idx = np.argmin(hv)    #←找出最佳驗證週期\n",
    "            val = hv[idx]          #←取得最佳驗證的 mae 值\n",
    "            u.plot(history.history,\n",
    "                       ('mae', 'val_mae'), #←繪製準確率的歷史線圖\n",
    "                       f'k={i} Best val_mae at epoch={idx+1} val_mae={val:.3f}',\n",
    "                       ('Epoch','mae'), ylim=(0.03, 0.08))\n",
    "\n",
    "        all_his_mae.append(history.history['mae'])     #←儲存 mae 歷史驗證資料\n",
    "        all_his_val.append(history.history['val_mae']) #←儲存 val_mae 歷史驗證資料\n",
    "\n",
    "    avg_mae = np.mean(all_his_mae, axis=0)  #←沿著第 0 軸 (k 折軸) 對每個 mae 結果做平均, 因此 avg.shape 為 (200,)\n",
    "    avg_val = np.mean(all_his_val, axis=0)  #←沿著第 0 軸 (k 折軸) 對每個驗證結果做平均, 因此 avg.shape 為 (200,)\n",
    "    idx = np.argmin(avg_val)   #← 找出最佳平均驗證結果的週期 (由 0 算起)\n",
    "    val = round(avg_val[idx], 3)   #←取得最佳平均驗證的 mae 值, 並四捨五入到小數 3 位\n",
    "    print(f'>平均最佳週期={idx+1:3} val_mae={val:<5.3f}',end='')  #←顯示最佳週期 (由 1 算起) 及其 mae 值\n",
    "    if show_info:\n",
    "        u.plot({'avg_mae': avg_mae, 'avg_val_mae': avg_val},  #←繪製歷史線圖\n",
    "               ('avg_mae', 'avg_val_mae',),\n",
    "               f'Best avg val_mae at epoch {idx+1} val_mae={val:.3f}',\n",
    "               ('Epoch','mae'), ylim=(0.03, 0.08))\n",
    "    model.set_weights(wt)  #←還原初始權重 (效果等於重建模型, 以便重新訓練)\n",
    "    history =  model.fit(x_train, y_train,\n",
    "                         epochs=idx+1,        #訓練最佳次數\n",
    "                         batch_size=batch,    #每批次 batch 筆資料\n",
    "                         verbose=0)       #安靜模式 (不顯示訊息)\n",
    "    loss, mae = model.evaluate(x_test, y_test, verbose=0)  #←用測試資料評估成效\n",
    "    #    print('重練', idx+1, '週期, 再評估 mae =', round(mae*100, 1))\n",
    "    print(f'用所有訓練資料重新訓練到第 {idx+1} 週期, 用測試資料'\n",
    "          if show_info else f', 重訓練', end='')\n",
    "    print(f'評估 mae={mae:<5.3f}')\n",
    "\n",
    "show_info = 1   # 顯示哪種資訊： 0-簡要資訊, 1-簡要資訊+平均驗證圖, 2-詳細資料\n",
    "epoch = 200     # 訓練週期\n",
    "\n",
    "for batch in (1, 2, 4, 8, 16):\n",
    "    for u2 in (0, 4, 8, 16):\n",
    "        for u1 in (4, 8, 16):\n",
    "            train(u1, u2, epoch, batch)"
   ]
  }
 ],
 "metadata": {
  "kernelspec": {
   "display_name": "Python 3",
   "language": "python",
   "name": "python3"
  },
  "language_info": {
   "codemirror_mode": {
    "name": "ipython",
    "version": 3
   },
   "file_extension": ".py",
   "mimetype": "text/x-python",
   "name": "python",
   "nbconvert_exporter": "python",
   "pygments_lexer": "ipython3",
   "version": "3.7.4"
  }
 },
 "nbformat": 4,
 "nbformat_minor": 2
}

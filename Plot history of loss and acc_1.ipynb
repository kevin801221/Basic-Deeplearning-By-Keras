{
 "cells": [
  {
   "cell_type": "code",
   "execution_count": 1,
   "metadata": {},
   "outputs": [
    {
     "name": "stdout",
     "output_type": "stream",
     "text": [
      "Train on 48000 samples, validate on 12000 samples\n",
      "Epoch 1/5\n",
      "48000/48000 - 2s - loss: 0.2855 - acc: 0.9170 - val_loss: 0.1457 - val_acc: 0.9581\n",
      "Epoch 2/5\n",
      "48000/48000 - 2s - loss: 0.1191 - acc: 0.9649 - val_loss: 0.1065 - val_acc: 0.9688\n",
      "Epoch 3/5\n",
      "48000/48000 - 2s - loss: 0.0786 - acc: 0.9769 - val_loss: 0.0853 - val_acc: 0.9749\n",
      "Epoch 4/5\n",
      "48000/48000 - 2s - loss: 0.0560 - acc: 0.9830 - val_loss: 0.0857 - val_acc: 0.9747\n",
      "Epoch 5/5\n",
      "48000/48000 - 2s - loss: 0.0416 - acc: 0.9877 - val_loss: 0.0770 - val_acc: 0.9767\n",
      "{'loss': [0.2854917393227418, 0.11905313862363498, 0.07863995649417241, 0.056017023784418904, 0.04163688276087244], 'acc': [0.91695833, 0.96489584, 0.9769375, 0.983, 0.9876875], 'val_loss': [0.14566282963752747, 0.10653522885839144, 0.08533151081204414, 0.08569778383274873, 0.07696074671298266], 'val_acc': [0.95808333, 0.96875, 0.97491664, 0.97475, 0.9766667]}\n"
     ]
    },
    {
     "data": {
      "text/plain": [
       "<Figure size 640x480 with 1 Axes>"
      ]
     },
     "metadata": {},
     "output_type": "display_data"
    },
    {
     "data": {
      "text/plain": [
       "<Figure size 640x480 with 1 Axes>"
      ]
     },
     "metadata": {},
     "output_type": "display_data"
    }
   ],
   "source": [
    "import util2 as u  # 匯入自訂的工具模組\n",
    "\n",
    "(x_train, x_test), (y_train, y_test) = u.mnist_data() #←載入預處理好的 MNIST 資料集\n",
    "model = u.mnist_model()     #←取得新建立並編譯好的模型\n",
    "\n",
    "history = model.fit(x_train, y_train, epochs=5, batch_size=128,\n",
    "                    validation_split=0.2,  # 將測試資資切出 20% 做為驗證用\n",
    "                    verbose=2)             # 精簡模式 (無進度條)\n",
    "\n",
    "print(history.history)  # 顯示訓練的歷史資料\n",
    "\n",
    "u.plot(history.history, ('loss','val_loss'),  # 繪製損失值歷史線圖\n",
    "       'Training & Validation loss',\n",
    "       ('Epochs', 'Loss'))\n",
    "\n",
    "u.plot(history.history, ('acc','val_acc'),    # 繪製準確度歷史線圖\n",
    "       'Training & Validation accuracy',\n",
    "       ('Epochs', 'Accuracy'))"
   ]
  },
  {
   "cell_type": "code",
   "execution_count": null,
   "metadata": {},
   "outputs": [],
   "source": []
  }
 ],
 "metadata": {
  "kernelspec": {
   "display_name": "Python 3",
   "language": "python",
   "name": "python3"
  },
  "language_info": {
   "codemirror_mode": {
    "name": "ipython",
    "version": 3
   },
   "file_extension": ".py",
   "mimetype": "text/x-python",
   "name": "python",
   "nbconvert_exporter": "python",
   "pygments_lexer": "ipython3",
   "version": "3.7.4"
  }
 },
 "nbformat": 4,
 "nbformat_minor": 2
}

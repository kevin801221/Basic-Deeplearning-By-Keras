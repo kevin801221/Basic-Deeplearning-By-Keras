{
 "cells": [
  {
   "cell_type": "code",
   "execution_count": 1,
   "metadata": {},
   "outputs": [
    {
     "name": "stdout",
     "output_type": "stream",
     "text": [
      "Train on 60000 samples\n",
      "Epoch 1/5\n",
      "60000/60000 [==============================] - 3s 49us/sample - loss: 0.2554 - acc: 0.9265 - mse: 0.0114 - top_k_categorical_accuracy: 0.9948\n",
      "Epoch 2/5\n",
      "60000/60000 [==============================] - 2s 40us/sample - loss: 0.1045 - acc: 0.9687 - mse: 0.0048 - top_k_categorical_accuracy: 0.9993\n",
      "Epoch 3/5\n",
      "60000/60000 [==============================] - 2s 40us/sample - loss: 0.0687 - acc: 0.9794 - mse: 0.0032 - top_k_categorical_accuracy: 0.9997\n",
      "Epoch 4/5\n",
      "60000/60000 [==============================] - 2s 41us/sample - loss: 0.0507 - acc: 0.9847 - mse: 0.0024 - top_k_categorical_accuracy: 0.9998\n",
      "Epoch 5/5\n",
      "60000/60000 [==============================] - 2s 41us/sample - loss: 0.0383 - acc: 0.9885 - mse: 0.0018 - top_k_categorical_accuracy: 0.9999\n"
     ]
    },
    {
     "data": {
      "text/plain": [
       "<tensorflow.python.keras.callbacks.History at 0x24a205bff08>"
      ]
     },
     "execution_count": 1,
     "metadata": {},
     "output_type": "execute_result"
    }
   ],
   "source": [
    "import util2 as u      #←匯入自訂的工具模組\n",
    "\n",
    "(x_train, x_test), (y_train, y_test) = u.mnist_data() #←載入預處理好的 MNIST 資料集\n",
    "model = u.mnist_model()     #←取得新建立並編譯好的模型\n",
    "\n",
    "from tensorflow.keras import metrics      #← 匯入評量準則模組\n",
    "\n",
    "model.compile(optimizer='rmsprop',\n",
    "              loss='categorical_crossentropy',\n",
    "              metrics=['acc', 'mse', metrics.top_k_categorical_accuracy])\n",
    "                              #↑ 同時指定 3 個評量準則, 其中第 2 個為損失函數\n",
    "\n",
    "model.fit(x_train, y_train, epochs=5, batch_size=128) # 訓練模型"
   ]
  },
  {
   "cell_type": "code",
   "execution_count": null,
   "metadata": {},
   "outputs": [],
   "source": []
  }
 ],
 "metadata": {
  "kernelspec": {
   "display_name": "Python 3",
   "language": "python",
   "name": "python3"
  },
  "language_info": {
   "codemirror_mode": {
    "name": "ipython",
    "version": 3
   },
   "file_extension": ".py",
   "mimetype": "text/x-python",
   "name": "python",
   "nbconvert_exporter": "python",
   "pygments_lexer": "ipython3",
   "version": "3.7.4"
  }
 },
 "nbformat": 4,
 "nbformat_minor": 2
}

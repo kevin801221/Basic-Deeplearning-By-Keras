{
 "cells": [
  {
   "cell_type": "code",
   "execution_count": 1,
   "metadata": {},
   "outputs": [
    {
     "name": "stdout",
     "output_type": "stream",
     "text": [
      "2\n",
      "3\n",
      "4\n",
      "next(gen) = 0\n",
      "next(gen) = 100001\n"
     ]
    }
   ],
   "source": [
    "def mygen(fr=0, to=None):     # 定義可傳回生成器物件的函式\n",
    "    while to==None or fr<to:  # 若未指定 to 則無上限\n",
    "        yield fr    # 傳回動態產生的資料\n",
    "        fr += 1     # 將計數值加 1\n",
    "\n",
    "for i in mygen(2, 5):  # 走訪由 2 到 5 (不含 5) 的生成器物件\n",
    "    print(i)\n",
    "\n",
    "gen = mygen(0)    # 傳回一個由 0 開始且無上限的生成器物件\n",
    "print('next(gen) =', next(gen))\n",
    "for i in range(100000): next(gen) # 用 next() 讀取 100000 次\n",
    "print('next(gen) =', next(gen))"
   ]
  },
  {
   "cell_type": "code",
   "execution_count": null,
   "metadata": {},
   "outputs": [],
   "source": []
  }
 ],
 "metadata": {
  "kernelspec": {
   "display_name": "Python 3",
   "language": "python",
   "name": "python3"
  },
  "language_info": {
   "codemirror_mode": {
    "name": "ipython",
    "version": 3
   },
   "file_extension": ".py",
   "mimetype": "text/x-python",
   "name": "python",
   "nbconvert_exporter": "python",
   "pygments_lexer": "ipython3",
   "version": "3.7.4"
  }
 },
 "nbformat": 4,
 "nbformat_minor": 2
}

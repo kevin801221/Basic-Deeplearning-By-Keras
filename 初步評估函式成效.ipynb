{
 "cells": [
  {
   "cell_type": "code",
   "execution_count": 1,
   "metadata": {},
   "outputs": [],
   "source": [
    "import util2 as u      #←匯入自訂的工具模組\n",
    "from tensorflow.keras import backend as K  #←匯入 Keras 後端函式庫介面"
   ]
  },
  {
   "cell_type": "code",
   "execution_count": 2,
   "metadata": {},
   "outputs": [],
   "source": [
    "(x_train, x_test), (y_train, y_test) = u.mnist_data() #←載入預處理好的 MNIST 資料集\n",
    "model = u.mnist_model()     #←取得新建立並編譯好的模型"
   ]
  },
  {
   "cell_type": "code",
   "execution_count": 3,
   "metadata": {},
   "outputs": [
    {
     "name": "stdout",
     "output_type": "stream",
     "text": [
      "Train on 60000 samples\n",
      "Epoch 1/5\n",
      "60000/60000 [==============================] - 3s 51us/sample - loss: 0.0121 - acc: 0.9213\n",
      "Epoch 2/5\n",
      "60000/60000 [==============================] - 2s 38us/sample - loss: 0.0054 - acc: 0.9661\n",
      "Epoch 3/5\n",
      "60000/60000 [==============================] - 2s 38us/sample - loss: 0.0037 - acc: 0.9772\n",
      "Epoch 4/5\n",
      "60000/60000 [==============================] - 2s 38us/sample - loss: 0.0028 - acc: 0.9823\n",
      "Epoch 5/5\n",
      "60000/60000 [==============================] - 2s 39us/sample - loss: 0.0022 - acc: 0.9862\n",
      "評估成效： [0.003168812028321929, 0.9799]\n"
     ]
    }
   ],
   "source": [
    "def my_mse(y_true, y_pred):   # 自訂損失函數\n",
    "    return K.mean(K.square(y_pred - y_true), axis=-1)\n",
    "          #↑ Keras 已將後端的函式都包裝起來以方便使用\n",
    "\n",
    "model.compile(optimizer='rmsprop',\n",
    "              loss=my_mse,    #← 使用自訂的損失函數\n",
    "              metrics=['acc'])\n",
    "\n",
    "# 訓練模型\n",
    "history = model.fit(x_train, y_train, epochs=5, batch_size=128)\n",
    "print('評估成效：', model.evaluate(x_test, y_test, verbose=0))"
   ]
  },
  {
   "cell_type": "code",
   "execution_count": null,
   "metadata": {},
   "outputs": [],
   "source": []
  }
 ],
 "metadata": {
  "kernelspec": {
   "display_name": "Python 3",
   "language": "python",
   "name": "python3"
  },
  "language_info": {
   "codemirror_mode": {
    "name": "ipython",
    "version": 3
   },
   "file_extension": ".py",
   "mimetype": "text/x-python",
   "name": "python",
   "nbconvert_exporter": "python",
   "pygments_lexer": "ipython3",
   "version": "3.7.4"
  }
 },
 "nbformat": 4,
 "nbformat_minor": 2
}

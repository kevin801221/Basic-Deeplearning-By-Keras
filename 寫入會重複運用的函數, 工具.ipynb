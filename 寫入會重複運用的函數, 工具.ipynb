{
 "cells": [
  {
   "cell_type": "code",
   "execution_count": 1,
   "metadata": {},
   "outputs": [],
   "source": [
    "from tensorflow.keras.datasets import mnist\n",
    "from tensorflow.keras.utils import to_categorical\n",
    "from tensorflow.keras.models import Sequential  #← 匯入 Keras 的序列式模型類別\n",
    "from tensorflow.keras.layers import Dense       #← 匯入 Keras 的密集層類別"
   ]
  },
  {
   "cell_type": "code",
   "execution_count": 2,
   "metadata": {},
   "outputs": [],
   "source": [
    "#傳回預處理好的 MNIST 資料集： (x_train, x_test), (y_train, y_test)\n",
    "def mnist_data():\n",
    "    # 載入 MNIST 資料集並預處理樣本 & 標籤資料\n",
    "    (train_images, train_labels), (test_images, test_labels) = mnist.load_data()\n",
    "    x_train = train_images.reshape((60000, 28 * 28)) #←將 (60000,28,28) 轉換成 (60000,784)\n",
    "    x_train = x_train.astype('float32') / 255    #←再將 0~255 的像素值轉換成 0~1 的浮點數\n",
    "    x_test = test_images.reshape((10000, 28 * 28))  #}←將 10000 筆測試樣本做同樣的轉換\n",
    "    x_test = x_test.astype('float32') / 255         #}\n",
    "    y_train = to_categorical(train_labels)  #←將訓練標籤做 One-hot 編碼\n",
    "    y_test  = to_categorical(test_labels)  #←將測試標籤做 One-hot 編碼\n",
    "    return (x_train, x_test), (y_train, y_test)"
   ]
  },
  {
   "cell_type": "code",
   "execution_count": 3,
   "metadata": {},
   "outputs": [],
   "source": [
    "#傳回新建立並編譯好的 MNIST 模型\n",
    "def mnist_model():\n",
    "    model = Sequential()                 #← 建立序列模型物件\n",
    "    model.add(Dense(512, activation='relu', input_dim= 784)) #← 加入第一層\n",
    "    model.add(Dense(10, activation='softmax'))               #← 加入第二層\n",
    "    model.compile(optimizer='rmsprop',             #← 指定優化器\n",
    "                  loss='categorical_crossentropy', #← 指定損失函數\n",
    "                  metrics=['acc'])                 #← 指定評量準則\n",
    "    return model\n"
   ]
  },
  {
   "cell_type": "code",
   "execution_count": null,
   "metadata": {},
   "outputs": [],
   "source": [
    "###################################################################"
   ]
  },
  {
   "cell_type": "code",
   "execution_count": 4,
   "metadata": {},
   "outputs": [],
   "source": [
    "import matplotlib.pyplot as plt\n",
    "\n",
    "# 繪製線圖 (可將訓練時所傳回的損失值或準確率等歷史記錄繪製成線圖)\n",
    "# history: 內含一或多筆要繪資料的字典, 例如：{'loss': [4,2,1,…], 'acc': [2,3,5,…]}\n",
    "# keys: 以 tuple 或串列指定 history 中要繪製的 key 值, 例如：('loss', 'acc')\n",
    "# title: 以字串指定圖表的標題文字\n",
    "# xyLabel: 以 tuple 或串列指定 x, y 軸的說明文字, 例如：('epoch', 'Accuracy')\n",
    "# ylim: 以 tuple 或串列指定 y 軸的最小值及最大值, 例如 (1, 3), 超出範圍的值會被忽略\n",
    "# size: 以 tuple 指定圖的尺寸, 預設為 (6, 4) (即寬 6 高 4 英吋)\n",
    "def plot(history_dict, keys, title=None, xyLabel=[], ylim=(), size=()):\n",
    "    lineType = ('-', '--', '.', ':')    # 線條的樣式, 畫多條線時會依序採用\n",
    "    if len(ylim)==2: plt.ylim(*ylim)    # 設定 y 軸最小值及最大值\n",
    "    if len(size)==2: plt.gcf().set_size_inches(*size)  # size預設為 (6,4)\n",
    "    epochs = range(1, len(history_dict[keys[0]])+1)  # 計算有幾週期的資料\n",
    "    for i in range(len(keys)):   # 走訪每一個 key (例如 'loss' 或 'acc' 等)\n",
    "        plt.plot(epochs, history_dict[keys[i]], lineType[i])  # 畫出線條\n",
    "    if title:   # 是否顯示標題欄\n",
    "        plt.title(title)\n",
    "    if len(xyLabel)==2:  # 是否顯示 x, y 軸的說明文字\n",
    "        plt.xlabel(xyLabel[0])\n",
    "        plt.ylabel(xyLabel[1])\n",
    "    plt.legend(keys, loc='best') # 顯示圖例 (會以 key 為每條線的說明)\n",
    "    plt.show()  # 顯示出畫好的圖\n"
   ]
  },
  {
   "cell_type": "code",
   "execution_count": null,
   "metadata": {},
   "outputs": [],
   "source": []
  }
 ],
 "metadata": {
  "kernelspec": {
   "display_name": "Python 3",
   "language": "python",
   "name": "python3"
  },
  "language_info": {
   "codemirror_mode": {
    "name": "ipython",
    "version": 3
   },
   "file_extension": ".py",
   "mimetype": "text/x-python",
   "name": "python",
   "nbconvert_exporter": "python",
   "pygments_lexer": "ipython3",
   "version": "3.7.4"
  }
 },
 "nbformat": 4,
 "nbformat_minor": 2
}

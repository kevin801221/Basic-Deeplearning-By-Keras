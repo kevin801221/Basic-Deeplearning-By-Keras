{
 "cells": [
  {
   "cell_type": "code",
   "execution_count": 1,
   "metadata": {},
   "outputs": [
    {
     "name": "stdout",
     "output_type": "stream",
     "text": [
      "top 1 的傳回值：[1. 0. 0.], 準確率 = 0.33\n",
      "top 2 的傳回值：[1. 1. 0.], 準確率 = 0.67\n",
      "top 3 的傳回值：[1. 1. 1.], 準確率 = 1.00\n"
     ]
    }
   ],
   "source": [
    "from tensorflow.keras import metrics\n",
    "from tensorflow.keras import backend as K    #←匯入 Keras 的後端函式庫介面\n",
    "\n",
    "y_pred = [[0.5,0.4,0.1],[0.3,0.2,0.5],[0.1,0.2,0.7]] #←建立預測值的張量\n",
    "y_true = [[ 1,  0,  0 ],[ 1,  0,  0 ],[ 1,  0,  0 ]] #←建立標籤值的張量\n",
    "for i in range(1, 4):\n",
    "    ret = K.eval(metrics.top_k_categorical_accuracy(y_true, y_pred, k=i))\n",
    "    acc = sum(ret)/len(ret)   #←計算平均值 (ret 為一個串列)\n",
    "    print(f'top {i} 的傳回值：{ret}, 準確率 = {acc:.2f}')"
   ]
  },
  {
   "cell_type": "code",
   "execution_count": null,
   "metadata": {},
   "outputs": [],
   "source": []
  }
 ],
 "metadata": {
  "kernelspec": {
   "display_name": "Python 3",
   "language": "python",
   "name": "python3"
  },
  "language_info": {
   "codemirror_mode": {
    "name": "ipython",
    "version": 3
   },
   "file_extension": ".py",
   "mimetype": "text/x-python",
   "name": "python",
   "nbconvert_exporter": "python",
   "pygments_lexer": "ipython3",
   "version": "3.7.4"
  }
 },
 "nbformat": 4,
 "nbformat_minor": 2
}
